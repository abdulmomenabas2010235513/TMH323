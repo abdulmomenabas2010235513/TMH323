{
 "cells": [
  {
   "cell_type": "code",
   "execution_count": 20,
   "id": "beb49468",
   "metadata": {},
   "outputs": [
    {
     "name": "stdout",
     "output_type": "stream",
     "text": [
      "      Country Name Country Code  \\\n",
      "0       Arab World          ARB   \n",
      "1       Arab World          ARB   \n",
      "2       Arab World          ARB   \n",
      "3       Arab World          ARB   \n",
      "4       Arab World          ARB   \n",
      "...            ...          ...   \n",
      "89005     Zimbabwe          ZWE   \n",
      "89006     Zimbabwe          ZWE   \n",
      "89007     Zimbabwe          ZWE   \n",
      "89008     Zimbabwe          ZWE   \n",
      "89009     Zimbabwe          ZWE   \n",
      "\n",
      "                                          Indicator Name     Indicator Code  \\\n",
      "0      % of females ages 15-49 having comprehensive c...  SH.HIV.KNOW.FE.ZS   \n",
      "1      % of males ages 15-49 having comprehensive cor...  SH.HIV.KNOW.MA.ZS   \n",
      "2      Adolescent fertility rate (births per 1,000 wo...        SP.ADO.TFRT   \n",
      "3      Adults (ages 15+) and children (0-14 years) li...        SH.HIV.TOTL   \n",
      "4      Adults (ages 15+) and children (ages 0-14) new...     SH.HIV.INCD.TL   \n",
      "...                                                  ...                ...   \n",
      "89005  Use of insecticide-treated bed nets (% of unde...     SH.MLR.NETS.ZS   \n",
      "89006  Use of Intermittent Preventive Treatment of ma...     SH.MLR.SPF2.ZS   \n",
      "89007  Vitamin A supplementation coverage rate (% of ...     SN.ITK.VITA.ZS   \n",
      "89008           Wanted fertility rate (births per woman)        SP.DYN.WFRT   \n",
      "89009  Women's share of population ages 15+ living wi...  SH.DYN.AIDS.FE.ZS   \n",
      "\n",
      "             1960        1961        1962        1963        1964        1965  \\\n",
      "0             NaN         NaN         NaN         NaN         NaN         NaN   \n",
      "1             NaN         NaN         NaN         NaN         NaN         NaN   \n",
      "2      133.555013  134.159119  134.857912  134.504576  134.105211  133.569626   \n",
      "3             NaN         NaN         NaN         NaN         NaN         NaN   \n",
      "4             NaN         NaN         NaN         NaN         NaN         NaN   \n",
      "...           ...         ...         ...         ...         ...         ...   \n",
      "89005         NaN         NaN         NaN         NaN         NaN         NaN   \n",
      "89006         NaN         NaN         NaN         NaN         NaN         NaN   \n",
      "89007         NaN         NaN         NaN         NaN         NaN         NaN   \n",
      "89008         NaN         NaN         NaN         NaN         NaN         NaN   \n",
      "89009         NaN         NaN         NaN         NaN         NaN         NaN   \n",
      "\n",
      "       ...       2007       2008       2009       2010       2011       2012  \\\n",
      "0      ...        NaN        NaN        NaN        NaN        NaN        NaN   \n",
      "1      ...        NaN        NaN        NaN        NaN        NaN        NaN   \n",
      "2      ...  49.999851  49.887046  49.781207  49.672975  49.536047  49.383745   \n",
      "3      ...        NaN        NaN        NaN        NaN        NaN        NaN   \n",
      "4      ...        NaN        NaN        NaN        NaN        NaN        NaN   \n",
      "...    ...        ...        ...        ...        ...        ...        ...   \n",
      "89005  ...        NaN        NaN  17.300000        NaN   9.700000        NaN   \n",
      "89006  ...        NaN        NaN  13.900000        NaN   7.300000        NaN   \n",
      "89007  ...  83.000000   0.000000  77.000000  49.000000  47.000000  61.000000   \n",
      "89008  ...        NaN        NaN        NaN        NaN   3.500000        NaN   \n",
      "89009  ...  58.586086  58.760796  58.812421  58.825943  58.899308  58.939080   \n",
      "\n",
      "            2013       2014       2015  Unnamed: 60  \n",
      "0            NaN        NaN        NaN          NaN  \n",
      "1            NaN        NaN        NaN          NaN  \n",
      "2      48.796558  48.196418        NaN          NaN  \n",
      "3            NaN        NaN        NaN          NaN  \n",
      "4            NaN        NaN        NaN          NaN  \n",
      "...          ...        ...        ...          ...  \n",
      "89005        NaN  26.800000        NaN          NaN  \n",
      "89006        NaN  12.900000        NaN          NaN  \n",
      "89007  34.000000  32.000000        NaN          NaN  \n",
      "89008        NaN        NaN        NaN          NaN  \n",
      "89009  58.900126  58.822335  58.855551          NaN  \n",
      "\n",
      "[89010 rows x 61 columns]\n"
     ]
    }
   ],
   "source": [
    "import pandas as pd\n",
    "\n",
    "file_path = 'data.csv' \n",
    "\n",
    "\n",
    "data = pd.read_csv(file_path)\n",
    "\n",
    "print(data)"
   ]
  },
  {
   "cell_type": "code",
   "execution_count": 21,
   "id": "7080e1a0",
   "metadata": {},
   "outputs": [],
   "source": [
    "import pandas as pd\n",
    "from sklearn.model_selection import train_test_split\n",
    "from sklearn.linear_model import LinearRegression\n",
    "from sklearn.tree import DecisionTreeRegressor\n",
    "from sklearn.ensemble import RandomForestRegressor\n",
    "from sklearn.metrics import r2_score, mean_absolute_error, mean_squared_error\n",
    "import numpy as np\n",
    "\n",
    "\n",
    "file_path = 'data.csv'  \n",
    "data = pd.read_csv(file_path)\n"
   ]
  },
  {
   "cell_type": "code",
   "execution_count": 22,
   "id": "6f0deebd",
   "metadata": {},
   "outputs": [],
   "source": [
    "columns_to_drop = ['Unnamed: 60']  \n",
    "data_cleaned = data.drop(columns=columns_to_drop)"
   ]
  },
  {
   "cell_type": "code",
   "execution_count": 23,
   "id": "0fe923ce",
   "metadata": {},
   "outputs": [],
   "source": [
    "data_cleaned.fillna(0, inplace=True)"
   ]
  },
  {
   "cell_type": "code",
   "execution_count": 24,
   "id": "bb3a9869",
   "metadata": {},
   "outputs": [],
   "source": [
    "selected_columns = ['1960', '1961', '1962', '2015']  \n",
    "data_selected = data_cleaned[selected_columns]"
   ]
  },
  {
   "cell_type": "code",
   "execution_count": 25,
   "id": "fa42eb7e",
   "metadata": {},
   "outputs": [],
   "source": [
    "X = data_selected.drop(columns=['2015'])\n",
    "y = data_selected['2015']"
   ]
  },
  {
   "cell_type": "code",
   "execution_count": 26,
   "id": "0b2454b7",
   "metadata": {},
   "outputs": [],
   "source": [
    "X_train, X_test, y_train, y_test = train_test_split(X, y, test_size=0.2, random_state=42)"
   ]
  },
  {
   "cell_type": "code",
   "execution_count": 27,
   "id": "feb395c4",
   "metadata": {},
   "outputs": [],
   "source": [
    "lr = LinearRegression()\n",
    "lr.fit(X_train, y_train)\n",
    "lr_pred = lr.predict(X_test)"
   ]
  },
  {
   "cell_type": "code",
   "execution_count": 28,
   "id": "b7bbc015",
   "metadata": {},
   "outputs": [],
   "source": [
    "from sklearn.preprocessing import PolynomialFeatures\n",
    "poly_features = PolynomialFeatures(degree=2)\n",
    "X_train_poly = poly_features.fit_transform(X_train)\n",
    "X_test_poly = poly_features.transform(X_test)"
   ]
  },
  {
   "cell_type": "code",
   "execution_count": 29,
   "id": "6ac34bf1",
   "metadata": {},
   "outputs": [],
   "source": [
    "plr = LinearRegression()\n",
    "plr.fit(X_train_poly, y_train)\n",
    "plr_pred = plr.predict(X_test_poly)"
   ]
  },
  {
   "cell_type": "code",
   "execution_count": 30,
   "id": "d003c0f9",
   "metadata": {},
   "outputs": [],
   "source": [
    "dt = DecisionTreeRegressor(random_state=42)\n",
    "dt.fit(X_train, y_train)\n",
    "dt_pred = dt.predict(X_test)"
   ]
  },
  {
   "cell_type": "code",
   "execution_count": 31,
   "id": "708d02fe",
   "metadata": {},
   "outputs": [],
   "source": [
    "rf = RandomForestRegressor(random_state=42)\n",
    "rf.fit(X_train, y_train)\n",
    "rf_pred = rf.predict(X_test)"
   ]
  },
  {
   "cell_type": "code",
   "execution_count": 32,
   "id": "17e680d6",
   "metadata": {},
   "outputs": [],
   "source": [
    "def calculate_metrics(y_true, y_pred):\n",
    "    r2 = r2_score(y_true, y_pred)\n",
    "    mae = mean_absolute_error(y_true, y_pred)\n",
    "    mse = mean_squared_error(y_true, y_pred)\n",
    "    mape = np.mean(np.abs((y_true - y_pred) / y_true)) * 100\n",
    "    return r2, mae, mse, mape"
   ]
  },
  {
   "cell_type": "code",
   "execution_count": 33,
   "id": "bb1e85ec",
   "metadata": {},
   "outputs": [],
   "source": [
    "lr_metrics = calculate_metrics(y_test, lr_pred)\n",
    "plr_metrics = calculate_metrics(y_test, plr_pred)\n",
    "dt_metrics = calculate_metrics(y_test, dt_pred)\n",
    "rf_metrics = calculate_metrics(y_test, rf_pred)"
   ]
  },
  {
   "cell_type": "code",
   "execution_count": 19,
   "id": "a8112e19",
   "metadata": {},
   "outputs": [
    {
     "name": "stdout",
     "output_type": "stream",
     "text": [
      "Linear Regression Metrics (R2, MAE, MSE, MAPE): (0.9386212137081389, 1765971.0602911129, 481406579743505.06, inf)\n",
      "Polynomial Regression Metrics (R2, MAE, MSE, MAPE): (0.9310234439678581, 1848360.3968849436, 540997467170880.9, inf)\n",
      "Decision Tree Metrics (R2, MAE, MSE, MAPE): (0.8481085720246957, 1900633.0451414553, 1191316043400554.2, inf)\n",
      "Random Forest Metrics (R2, MAE, MSE, MAPE): (0.8827226747707977, 1781329.4764382835, 919830440302194.9, inf)\n"
     ]
    }
   ],
   "source": [
    "print(\"Linear Regression Metrics (R2, MAE, MSE, MAPE):\", lr_metrics)\n",
    "print(\"Polynomial Regression Metrics (R2, MAE, MSE, MAPE):\", plr_metrics)\n",
    "print(\"Decision Tree Metrics (R2, MAE, MSE, MAPE):\", dt_metrics)\n",
    "print(\"Random Forest Metrics (R2, MAE, MSE, MAPE):\", rf_metrics)"
   ]
  },
  {
   "cell_type": "code",
   "execution_count": 2,
   "id": "05b44dbe",
   "metadata": {},
   "outputs": [
    {
     "name": "stdout",
     "output_type": "stream",
     "text": [
      "R-squared (R2): 0.7934438520692837\n",
      "Mean Absolute Error (MAE): 4554785.806751065\n",
      "Mean Squared Error (MSE): 2763018982620706.0\n"
     ]
    }
   ],
   "source": [
    "import pandas as pd\n",
    "\n",
    "\n",
    "data = pd.read_csv('data.csv')  \n",
    "\n",
    "\n",
    "columns_to_drop = ['Country Code', 'Indicator Code', 'Unnamed: 60'] \n",
    "data_cleaned = data.drop(columns=columns_to_drop)\n",
    "\n",
    "\n",
    "data_cleaned = data_cleaned.dropna(thresh=40)  \n",
    "\n",
    "\n",
    "years = [str(year) for year in range(1960, 2016)]\n",
    "\n",
    "\n",
    "data_cleaned = data_cleaned.dropna(subset=years)\n",
    "\n",
    "\n",
    "features = ['1960', '1961', '1962']  \n",
    "target = '2015'\n",
    "\n",
    "\n",
    "selected_data = data_cleaned[features + [target]].copy()\n",
    "\n",
    "\n",
    "from sklearn.tree import DecisionTreeRegressor\n",
    "from sklearn.model_selection import train_test_split\n",
    "from sklearn.metrics import r2_score, mean_absolute_error, mean_squared_error\n",
    "\n",
    "X = selected_data[features]\n",
    "y = selected_data[target]\n",
    "\n",
    "\n",
    "X_train, X_test, y_train, y_test = train_test_split(X, y, test_size=0.2, random_state=42)\n",
    "\n",
    "model = DecisionTreeRegressor()\n",
    "model.fit(X_train, y_train)\n",
    "\n",
    "y_pred = model.predict(X_test)\n",
    "\n",
    "r2 = r2_score(y_test, y_pred)\n",
    "mae = mean_absolute_error(y_test, y_pred)\n",
    "mse = mean_squared_error(y_test, y_pred)\n",
    "\n",
    "print(f\"R-squared (R2): {r2}\")\n",
    "print(f\"Mean Absolute Error (MAE): {mae}\")\n",
    "print(f\"Mean Squared Error (MSE): {mse}\")\n"
   ]
  },
  {
   "cell_type": "code",
   "execution_count": null,
   "id": "c8f979df",
   "metadata": {},
   "outputs": [],
   "source": []
  }
 ],
 "metadata": {
  "kernelspec": {
   "display_name": "Python 3 (ipykernel)",
   "language": "python",
   "name": "python3"
  },
  "language_info": {
   "codemirror_mode": {
    "name": "ipython",
    "version": 3
   },
   "file_extension": ".py",
   "mimetype": "text/x-python",
   "name": "python",
   "nbconvert_exporter": "python",
   "pygments_lexer": "ipython3",
   "version": "3.11.5"
  }
 },
 "nbformat": 4,
 "nbformat_minor": 5
}
